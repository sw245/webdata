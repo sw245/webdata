{
 "cells": [
  {
   "cell_type": "code",
   "execution_count": 1,
   "id": "b391d174",
   "metadata": {},
   "outputs": [],
   "source": [
    "import pandas as pd\n",
    "import numpy as np\n",
    "import matplotlib.pyplot as plt\n",
    "import matplotlib\n",
    "matplotlib.rcParams['font.family'] = 'Malgun Gothic'    # Windows\n",
    "# matplotlib.rcParams['font.family'] = 'AppleGothic'  # Mac\n",
    "matplotlib.rcParams['font.size'] = 12\n",
    "matplotlib.rcParams['axes.unicode_minus'] = False   # 그래프 마이너스 표시"
   ]
  },
  {
   "cell_type": "code",
   "execution_count": 18,
   "id": "749b9675",
   "metadata": {},
   "outputs": [],
   "source": [
    "day = [1,2,3]\n",
    "day = np.arange(1,4)\n",
    "name = ['홍길동','유관순','이순신']\n",
    "kor = [100,80,90]\n",
    "eng = [95,85,92]\n",
    "math = [-80,-100,-70]"
   ]
  },
  {
   "cell_type": "code",
   "execution_count": null,
   "id": "b41d303a",
   "metadata": {},
   "outputs": [
    {
     "data": {
      "image/png": "[encoded data removed]",
      "text/plain": [
       "<Figure size 640x480 with 1 Axes>"
      ]
     },
     "metadata": {},
     "output_type": "display_data"
    }
   ],
   "source": [
    "# plt.bar(day,kor,width=0.2)\n",
    "plt.barh(day-0.2,kor,height=0.2)       \n",
    "plt.barh(day,eng,height=0.2)       \n",
    "plt.barh(day+0.2,math,height=0.2)       \n",
    "# barh(): 가로로 뻗는 바 그래프\n",
    "# plt.xticks([60,70,80,90,100])\n",
    "# plt.xlim(40,115)\n",
    "plt.yticks(day,name)\n",
    "plt.show()"
   ]
  }
 ],
 "metadata": {
  "kernelspec": {
   "display_name": "Python 3",
   "language": "python",
   "name": "python3"
  },
  "language_info": {
   "codemirror_mode": {
    "name": "ipython",
    "version": 3
   },
   "file_extension": ".py",
   "mimetype": "text/x-python",
   "name": "python",
   "nbconvert_exporter": "python",
   "pygments_lexer": "ipython3",
   "version": "3.13.2"
  }
 },
 "nbformat": 4,
 "nbformat_minor": 5
}
