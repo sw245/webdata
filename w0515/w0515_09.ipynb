{
 "cells": [
  {
   "cell_type": "markdown",
   "id": "5939853c",
   "metadata": {},
   "source": [
    "# 네이버 항공권 웹스크래이핑"
   ]
  },
  {
   "cell_type": "markdown",
   "id": "ef06b813",
   "metadata": {},
   "source": [
    "### 네이버 항공권\n",
    "\n",
    "###### 김포, 제주 5/31~6/4\n",
    "###### 금액 110,000원 이하 제외\n",
    "###### 출발시간 5/31 17:00 이후 제외"
   ]
  },
  {
   "cell_type": "markdown",
   "id": "41c06881",
   "metadata": {},
   "source": [
    "설정부분"
   ]
  },
  {
   "cell_type": "code",
   "execution_count": 31,
   "id": "3f67021f",
   "metadata": {},
   "outputs": [],
   "source": [
    "import requests\n",
    "from bs4 import BeautifulSoup\n",
    "from selenium import webdriver\n",
    "from selenium.webdriver.common.keys import Keys\n",
    "from selenium.webdriver.common.by import By\n",
    "from selenium.webdriver.chrome.service import Service\n",
    "from selenium.webdriver.chrome.options import Options\n",
    "from selenium.webdriver.support.ui import WebDriverWait\n",
    "from selenium.webdriver.support import expected_conditions as EC\n",
    "import csv\n",
    "import time\n",
    "import random\n",
    "from datetime import datetime\n",
    "\n",
    "# 크롬 옵션 설정 - 접근보안 해제\n",
    "options = Options()\n",
    "options.add_argument(\"--disable-blink-features=AutomationControlled\")   # 자동화 티 안 나게??\n",
    "options.add_argument(\"start-maximized\")\n",
    "options.add_argument(\"user-agent=Mozilla/5.0 (Windows NT 10.0; Win64; x64) AppleWebKit/537.36 (KHTML, like Gecko) Chrome/123.0.0.0 Safari/537.36\")\n",
    "options.add_experimental_option(\"excludeSwitches\", [\"enable-automation\"])\n",
    "options.add_experimental_option('useAutomationExtension', False)\n"
   ]
  },
  {
   "cell_type": "code",
   "execution_count": 32,
   "id": "1da9638c",
   "metadata": {},
   "outputs": [],
   "source": [
    "# 브라우저 실행\n",
    "browser = webdriver.Chrome(options=options)\n",
    "browser.maximize_window()   # 창 최대화\n",
    "time.sleep(2)\n",
    "\n",
    "# 네이버 항공권\n",
    "url = 'https://flight.naver.com'\n",
    "browser.get(url)\n",
    "time.sleep(2)"
   ]
  },
  {
   "cell_type": "code",
   "execution_count": 33,
   "id": "b5080d29",
   "metadata": {},
   "outputs": [],
   "source": [
    "elem = browser.find_element(By.CLASS_NAME,'FullscreenPopup_close')\n",
    "elem.click()"
   ]
  },
  {
   "cell_type": "code",
   "execution_count": 34,
   "id": "2c159f50",
   "metadata": {},
   "outputs": [],
   "source": [
    "xpath_click = [\n",
    "    # '//*[@id=\"layer\"]/button[1]',      # '7일간 보지 않기'\n",
    "               '//*[@id=\"__next\"]/div/main/div[2]/div/div/div[2]/div[1]/button[1]/b',   # 출발 클릭\n",
    "               '//*[@id=\"__next\"]/div/main/div[8]/div[2]/div/div/ul[1]/li[3]/button',   # 김포 클릭\n",
    "               '//*[@id=\"__next\"]/div/main/div[2]/div/div/div[2]/div[1]/button[2]/b',   # 도착 클릭\n",
    "               '//*[@id=\"__next\"]/div/main/div[8]/div[2]/div[2]/div[2]/ul[1]/li[1]/button',  # 제주 클릭\n",
    "               '//*[@id=\"__next\"]/div/main/div[2]/div/div/div[2]/div[2]/button[1]',     # 가는 날 클릭\n",
    "               '//*[@id=\"__next\"]/div/main/div[8]/div[2]/div[1]/div[2]/div/div/div[2]/table/tbody/tr[5]/td[7]/button',  # 5/31 클릭\n",
    "               '//*[@id=\"__next\"]/div/main/div[8]/div[2]/div[1]/div[2]/div/div/div[3]/table/tbody/tr[1]/td[4]/button',  # 6/4 클릭\n",
    "               '//*[@id=\"__next\"]/div/main/div[2]/div/div/div[2]/button',   # 항공권 검색 클릭\n",
    "               ]\n",
    "\n",
    "for i in range(len(xpath_click)):\n",
    "    browser.find_element(By.XPATH,xpath_click[i]).click()\n",
    "    time.sleep(1)"
   ]
  },
  {
   "cell_type": "code",
   "execution_count": 35,
   "id": "cedbe854",
   "metadata": {},
   "outputs": [],
   "source": [
    "prev_height = browser.execute_script(\"return document.body.scrollHeight\")\n",
    "\n",
    "while True:\n",
    "    browser.execute_script(f\"window.scrollTo(0,{prev_height})\")\n",
    "    time.sleep(1)\n",
    "    curr_height = browser.execute_script(\"return document.body.scrollHeight\")\n",
    "    if prev_height == curr_height: break\n",
    "    prev_height = curr_height"
   ]
  },
  {
   "cell_type": "code",
   "execution_count": 36,
   "id": "e46776f7",
   "metadata": {},
   "outputs": [],
   "source": [
    "# from datetime import datetime\n",
    "\n",
    "# # a = '2025.05.31 06:15:00'\n",
    "# # a_time = a.strptime(a,'%Y.%m.%d %H:%M:%s')\n",
    "\n",
    "# # 기준시간\n",
    "# standard_time = datetime(2025,5,31,17,00,00)\n",
    "\n",
    "# # 검색된 시간 - '06:15'\n",
    "# times = '06:15'\n",
    "# d_time = times.split(':')\n",
    "# search_time = datetime(2025,5,31,int(d_time[0]),int(d_time[1]),00)\n",
    "\n",
    "# if (standard_time < search_time):   # 기준시간보다 검색된 시간이 더 크면 제외\n",
    "#     print(\"제외 대상입니다.\")\n",
    "# else:\n",
    "#     print(\"데이터 출력 대상입니다.\")\n",
    "\n",
    "# search_time = datetime(2025,5,31,15,00,00)\n"
   ]
  },
  {
   "cell_type": "code",
   "execution_count": 37,
   "id": "08471b60",
   "metadata": {},
   "outputs": [
    {
     "name": "stdout",
     "output_type": "stream",
     "text": [
      "0\n",
      "0\n"
     ]
    }
   ],
   "source": [
    "soup = BeautifulSoup(browser.page_source,'lxml')\n",
    "\n",
    "flights = soup.find_all('div',{'class':'domestic_Flight__8bR_b'})\n",
    "\n",
    "count = 0\n",
    "\n",
    "for f in flights:\n",
    "    airline = f.find('b',{'class':'airline_name__0Tw5w'}).get_text()\n",
    "    departure = f.find_all('span',{'class':'route_airport__tBD9o'})[0].find('b',{'class':'route_time__xWu7a'}).get_text()\n",
    "    arrival = f.find_all('span',{'class':'route_airport__tBD9o'})[1].find('b',{'class':'route_time__xWu7a'}).get_text()\n",
    "    cost = f.find('i',{'class':'domestic_num__ShOub'}).get_text()\n",
    "    cost_p = int(cost.replace(',',''))\n",
    "    departure_p = int(departure.replace(':',''))\n",
    "    \n",
    "    \n",
    "    \n",
    "    if cost_p <= 140000 or departure_p >= 1700: continue\n",
    "    if len(airline) <= 4:\n",
    "        print(f'{airline}\\t\\t{departure}\\t{arrival}\\t{cost}')\n",
    "        count += 1\n",
    "    else:\n",
    "        print(f'{airline}\\t{departure}\\t{arrival}\\t{cost}')\n",
    "        count += 1\n",
    "    \n",
    "print(len(flights))\n",
    "print(count)\n"
   ]
  }
 ],
 "metadata": {
  "kernelspec": {
   "display_name": "Python 3",
   "language": "python",
   "name": "python3"
  },
  "language_info": {
   "codemirror_mode": {
    "name": "ipython",
    "version": 3
   },
   "file_extension": ".py",
   "mimetype": "text/x-python",
   "name": "python",
   "nbconvert_exporter": "python",
   "pygments_lexer": "ipython3",
   "version": "3.13.2"
  }
 },
 "nbformat": 4,
 "nbformat_minor": 5
}
