{
 "cells": [
  {
   "cell_type": "markdown",
   "id": "132be75d",
   "metadata": {},
   "source": [
    "https://www.skyscanner.co.kr/"
   ]
  },
  {
   "cell_type": "markdown",
   "id": "1ae4820e",
   "metadata": {},
   "source": [
    "여기어때 오사카<br>\n",
    "9.24-9.27 검색<br>\n",
    "\n",
    "금액 220,000원 이하<br>\n",
    "평점 8.0 이상<br>\n",
    "평가 인원 수 5,000명 이상 <br>\n",
    "검색해서 출력<br>"
   ]
  },
  {
   "cell_type": "code",
   "execution_count": 78,
   "id": "f5f3c007",
   "metadata": {},
   "outputs": [],
   "source": [
    "from bs4 import BeautifulSoup\n",
    "from selenium import webdriver\n",
    "from selenium.webdriver.common.keys import Keys\n",
    "from selenium.webdriver.common.by import By\n",
    "from selenium.webdriver.chrome.service import Service\n",
    "from selenium.webdriver.chrome.options import Options\n",
    "from selenium.webdriver.support.ui import WebDriverWait\n",
    "from selenium.webdriver.support import expected_conditions as EC\n",
    "import time\n",
    "import csv\n",
    "import pyautogui\n",
    "del input\n",
    "\n",
    "options = Options()\n",
    "options.add_argument(\"--disable-blink-features=AutomationControlled\")   # 자동화 티 안 나게??\n",
    "options.add_argument(\"start-maximized\")\n",
    "options.add_argument(\"user-agent=Mozilla/5.0 (Windows NT 10.0; Win64; x64) AppleWebKit/537.36 (KHTML, like Gecko) Chrome/123.0.0.0 Safari/537.36\")\n",
    "options.add_experimental_option(\"excludeSwitches\", [\"enable-automation\"])\n",
    "options.add_experimental_option('useAutomationExtension', False)"
   ]
  },
  {
   "cell_type": "code",
   "execution_count": 79,
   "id": "cd85d4d9",
   "metadata": {},
   "outputs": [],
   "source": [
    "browser = webdriver.Chrome(options=options)\n",
    "\n",
    "url = 'https://www.yeogi.com/'\n",
    "browser.get(url)\n",
    "time.sleep(2)"
   ]
  },
  {
   "cell_type": "code",
   "execution_count": 80,
   "id": "62895c27",
   "metadata": {},
   "outputs": [],
   "source": [
    "# pyautogui.moveTo()"
   ]
  },
  {
   "cell_type": "code",
   "execution_count": 81,
   "id": "92432439",
   "metadata": {},
   "outputs": [],
   "source": [
    "def b_click(x_path):\n",
    "    browser.find_element(By.XPATH,x_path).click()\n",
    "\n",
    "input_box = browser.find_element(By.XPATH,'//*[@id=\"__next\"]/main/section[1]/div/div/div[2]/form/div[1]/div[1]/div/label/div/div[2]/input')\n",
    "input_box.send_keys('오사카')\n",
    "time.sleep(1)\n",
    "xpaths = ['//*[@id=\"__next\"]/main/section[1]/div/div/div[2]/form/div[1]/div[2]/ul/li[1]',   # 날짜 버튼 클릭\n",
    "          '//*[@id=\"__next\"]/main/section[1]/div/div/div[2]/form/div[2]/div[2]/div/div[1]/div[1]/button[2]',    # 화살표 클릭\n",
    "          '//*[@id=\"__next\"]/main/section[1]/div/div/div[2]/form/div[2]/div[2]/div/div[1]/div[2]/div[2]/div/div/ul[2]/li[25]/button',   # 9월 24일\n",
    "          '//*[@id=\"__next\"]/main/section[1]/div/div/div[2]/form/div[2]/div[2]/div/div[1]/div[2]/div[2]/div/div/ul[2]/li[28]/button',   # 9월 27일\n",
    "          '//*[@id=\"__next\"]/main/section[1]/div/div/div[2]/form/div[4]/button' # 검색\n",
    "          ]\n",
    "for i in range(len(xpaths)):\n",
    "    b_click(xpaths[i])\n",
    "    if i == 1: \n",
    "        b_click(xpaths[i])\n",
    "    time.sleep(1)\n",
    "        "
   ]
  },
  {
   "cell_type": "code",
   "execution_count": 82,
   "id": "66d5fcc6",
   "metadata": {},
   "outputs": [
    {
     "data": {
      "text/plain": [
       "18"
      ]
     },
     "execution_count": 82,
     "metadata": {},
     "output_type": "execute_result"
    }
   ],
   "source": [
    "f = open('../w0515/hotels.csv','w',encoding='utf-8',newline='')\n",
    "write = csv.writer(f)\n",
    "title = ['호텔 이름','평점','평가 수','비용']\n",
    "write.writerow(title)"
   ]
  },
  {
   "cell_type": "code",
   "execution_count": 88,
   "id": "9e718419",
   "metadata": {},
   "outputs": [
    {
     "name": "stdout",
     "output_type": "stream",
     "text": [
      "오리엔탈 호텔 유니버설 시티\t8.1\t1,811명 평가\t389,192\n",
      "호텔 그란비아 오사카\t8.6\t17,806명 평가\t285,358\n",
      "IP 시티 호텔 오사카\t8.0\t5,343명 평가\t105,363\n",
      "에스리드 호텔 난바 다이코쿠초\t9.0\t1,826명 평가\t176,790\n",
      "더 브리지 호텔 신사이바시\t9.0\t5,673명 평가\t233,489\n",
      "소테츠 그랜드 프레사 오사카 난바\t8.7\t24,033명 평가\t143,261\n",
      "수퍼 호텔 난바 닛폰바시\t8.9\t1,575명 평가\t170,593\n",
      "호텔 한신 오사카\t8.5\t4,250명 평가\t222,550\n",
      "이마노 오사카 신사이바시 호스텔\t8.7\t1,448명 평가\t177,410\n",
      "호텔 포르자 오사카 난바 도톤보리\t9.1\t12,084명 평가\t228,422\n",
      "로지 호텔 난바\t7.3\t1,100명 평가\t108,371\n",
      "호텔 간사이\t7.0\t6,178명 평가\t78,761\n",
      "오사카 후지야 호텔\t8.2\t6,120명 평가\t118,378\n",
      "호텔 케이한 난바 그란데\t8.9\t8,143명 평가\t156,355\n",
      "소테츠 프레사 인 기타하마\t8.8\t4,908명 평가\t139,453\n",
      "하톤 호텔 신사이바시\t8.5\t12,278명 평가\t158,000\n",
      "미츠이 가든 호텔 오사카 프리미어\t8.6\t5,278명 평가\t308,934\n",
      "타니마치군 호텔 WE 난바28\t9.0\t246명 평가\t246,040\n",
      "호텔 신포인 오사카\t8.5\t641명 평가\t132,024\n",
      "온야도 노노 난바 내추럴 핫 스프링\t9.0\t18,069명 평가\t288,657\n"
     ]
    }
   ],
   "source": [
    "time.sleep(2)\n",
    "def scrape(browser):\n",
    "    soup = BeautifulSoup(browser.page_source,'lxml')\n",
    "\n",
    "    box = soup.find('div',{'class':'css-1poun1e'})\n",
    "    hotels = box.find_all('a',{'class':'gc-thumbnail-type-seller-card css-wels0m'})\n",
    "    for h in hotels:\n",
    "        h_name = h.find('h3').get_text()\n",
    "        rating = h.find('span',{'class':'css-9ml4lz'}).get_text()\n",
    "        reviews = h.find('span',{'class':'css-oj6onp'}).get_text()\n",
    "        cost = h.find('span',{'class':'css-5r5920'}).get_text()\n",
    "        # write.writerow([h_name,rating,reviews,cost])\n",
    "        print(f'{h_name}\\t{rating}\\t{reviews}\\t{cost}')\n",
    "        \n",
    "scrape(browser)\n"
   ]
  },
  {
   "cell_type": "code",
   "execution_count": 84,
   "id": "66d3cdc1",
   "metadata": {},
   "outputs": [],
   "source": [
    "b_click('//*[@id=\"__next\"]/div/main/section/div[2]/div[2]/div/div/button[2]')\n",
    "time.sleep(2)\n",
    "scrape(browser)"
   ]
  },
  {
   "cell_type": "code",
   "execution_count": null,
   "id": "610cbb4f",
   "metadata": {},
   "outputs": [],
   "source": [
    "# input('stop')\n",
    "f.close()"
   ]
  },
  {
   "cell_type": "code",
   "execution_count": null,
   "id": "169130f6",
   "metadata": {},
   "outputs": [
    {
     "name": "stdout",
     "output_type": "stream",
     "text": [
      "['호텔 이름', '평점', '평가 수', '비용\\n']\n",
      "['호텔 그레이서리 오사카 난바', '8.7', '\"7', '078명 평가\"', '\"203', '724\"\\n']\n",
      "['하튼 호텔 신사이바시 나가호리도리', '8.9', '\"12', '367명 평가\"', '\"132', '679\"\\n']\n",
      "['호텔 한큐 리스파이어 오사카', '9.0', '\"39', '323명 평가\"', '\"231', '798\"\\n']\n",
      "['프리미어 호텔 캐빈 프레지던트 오사카', '9.0', '\"7', '675명 평가\"', '\"289', '097\"\\n']\n",
      "['호텔 플라자 오사카', '8.1', '\"3', '399명 평가\"', '\"178', '790\"\\n']\n",
      "['오사카 히노데 호텔 닛폰바시 - 심층수 온천', '8.9', '\"3', '240명 평가\"', '\"217', '490\"\\n']\n",
      "['호텔 비스타 오사카 난바', '8.9', '\"6', '022명 평가\"', '\"291', '894\"\\n']\n",
      "['호텔 몬토레 그라스미아 오사카', '8.6', '\"16', '019명 평가\"', '\"305', '978\"\\n']\n",
      "['호텔 오리엔탈 익스프레스 오사카 신사이바시', '8.9', '\"5', '536명 평가\"', '\"187', '312\"\\n']\n",
      "['난바 오리엔탈 호텔', '8.6', '\"16', '195명 평가\"', '\"317', '519\"\\n']\n",
      "['그리드스 프리미엄 호텔 오사카 남바', '8.8', '\"7', '197명 평가\"', '\"161', '946\"\\n']\n",
      "['호텔 비나리오 우메다', '8.0', '\"5', '415명 평가\"', '\"158', '044\"\\n']\n",
      "['베셀 인 남바', '8.6', '\"1', '813명 평가\"', '\"205', '744\"\\n']\n",
      "['베셀 인 신사이바시', '8.9', '\"6', '031명 평가\"', '\"165', '849\"\\n']\n",
      "['퀸테사 호텔 오사카 신사이바시 코믹 & 북스', '8.4', '\"7', '220명 평가\"', '\"166', '825\"\\n']\n",
      "['도톤보리 호텔', '8.9', '\"3', '437명 평가\"', '\"203', '897\"\\n']\n",
      "['센타라 그랜드 호텔 오사카', '9.1', '\"5', '095명 평가\"', '\"530', '670\"\\n']\n",
      "['칸데오 호텔 오사카 난바', '8.7', '\"23', '106명 평가\"', '\"236', '690\"\\n']\n",
      "['오리엔탈 호텔 유니버설 시티', '8.1', '\"1', '811명 평가\"', '\"389', '192\"\\n']\n",
      "['호텔 그란비아 오사카', '8.6', '\"17', '806명 평가\"', '\"285', '358\"\\n']\n",
      "['IP 시티 호텔 오사카', '8.0', '\"5', '343명 평가\"', '\"105', '363\"\\n']\n",
      "['에스리드 호텔 난바 다이코쿠초', '9.0', '\"1', '826명 평가\"', '\"176', '790\"\\n']\n",
      "['더 브리지 호텔 신사이바시', '9.0', '\"5', '673명 평가\"', '\"233', '489\"\\n']\n",
      "['소테츠 그랜드 프레사 오사카 난바', '8.7', '\"24', '033명 평가\"', '\"143', '261\"\\n']\n",
      "['수퍼 호텔 난바 닛폰바시', '8.9', '\"1', '575명 평가\"', '\"170', '593\"\\n']\n",
      "['호텔 한신 오사카', '8.5', '\"4', '250명 평가\"', '\"222', '550\"\\n']\n",
      "['이마노 오사카 신사이바시 호스텔', '8.7', '\"1', '448명 평가\"', '\"177', '410\"\\n']\n",
      "['호텔 포르자 오사카 난바 도톤보리', '9.1', '\"12', '084명 평가\"', '\"228', '422\"\\n']\n",
      "['로지 호텔 난바', '7.3', '\"1', '100명 평가\"', '\"108', '371\"\\n']\n",
      "['호텔 간사이', '7.0', '\"6', '178명 평가\"', '\"78', '761\"\\n']\n",
      "['오사카 후지야 호텔', '8.2', '\"6', '120명 평가\"', '\"118', '378\"\\n']\n",
      "['호텔 케이한 난바 그란데', '8.9', '\"8', '143명 평가\"', '\"156', '355\"\\n']\n",
      "['소테츠 프레사 인 기타하마', '8.8', '\"4', '908명 평가\"', '\"139', '453\"\\n']\n",
      "['하톤 호텔 신사이바시', '8.5', '\"12', '278명 평가\"', '\"158', '000\"\\n']\n",
      "['미츠이 가든 호텔 오사카 프리미어', '8.6', '\"5', '278명 평가\"', '\"308', '934\"\\n']\n",
      "['타니마치군 호텔 WE 난바28', '9.0', '246명 평가', '\"246', '040\"\\n']\n",
      "['호텔 신포인 오사카', '8.5', '641명 평가', '\"132', '024\"\\n']\n",
      "['온야도 노노 난바 내추럴 핫 스프링', '9.0', '\"18', '069명 평가\"', '\"288', '657\"\\n']\n"
     ]
    }
   ],
   "source": [
    "hotel_list = []\n",
    "with open('../w0515/hotels.csv','r',encoding='utf-8') as ff:\n",
    "    while True:\n",
    "        line = ff.readline()\n",
    "        if not line: break\n",
    "        hotel_list.append(line.split(','))\n",
    "        \n",
    "for h in hotel_list:\n",
    "    if float(h[1]) <= 220000 : pass\n",
    "    \n",
    "    "
   ]
  }
 ],
 "metadata": {
  "kernelspec": {
   "display_name": "Python 3",
   "language": "python",
   "name": "python3"
  },
  "language_info": {
   "codemirror_mode": {
    "name": "ipython",
    "version": 3
   },
   "file_extension": ".py",
   "mimetype": "text/x-python",
   "name": "python",
   "nbconvert_exporter": "python",
   "pygments_lexer": "ipython3",
   "version": "3.13.2"
  }
 },
 "nbformat": 4,
 "nbformat_minor": 5
}
