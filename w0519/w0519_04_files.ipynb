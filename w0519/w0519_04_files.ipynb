{
 "cells": [
  {
   "cell_type": "code",
   "execution_count": 2,
   "id": "8b169151",
   "metadata": {},
   "outputs": [],
   "source": [
    "import pandas as pd\n",
    "\n",
    "data = {\n",
    "    '이름':['홍길동','유관순','이순신','강감찬','김구','김유신','홍길자','홍길순'],\n",
    "    '학교':['가산고','가산고','가산고','가산고','가산고','디지털고','디지털고','디지털고'],\n",
    "    '키':[197,184,168,187,188,202,188,190],\n",
    "    '국어':[90,40,80,40,15,80,55,100],\n",
    "    '영어':[85,35,75,60,20,100,65,85],\n",
    "    '수학':[100,50,70,70,10,95,45,90],\n",
    "    '과학':[95,55,80,75,35,85,40,95],\n",
    "    '사회':[85,25,75,80,10,80,35,95],\n",
    "    'SW특기':['Python','Java','Javascript','','','C','PYTHON','C#']\n",
    "}\n",
    "\n",
    "df = pd.DataFrame(data,index=['1번','2번','3번','4번','5번','6번','7번','8번'])\n",
    "df.index.name = '지원번호'"
   ]
  },
  {
   "cell_type": "markdown",
   "id": "2790e30c",
   "metadata": {},
   "source": [
    "파일 저장"
   ]
  },
  {
   "cell_type": "code",
   "execution_count": 3,
   "id": "47eb576e",
   "metadata": {},
   "outputs": [],
   "source": [
    "# csv 파일 저장\n",
    "# utf-8 : 워드패드, vscode에서 읽기 가능 / excel에서는 한글 지원 안됨\n",
    "# utf-8-sig : excel에서도 한글 지원\n",
    "df.to_csv('score.csv',encoding='utf-8-sig')"
   ]
  },
  {
   "cell_type": "code",
   "execution_count": 5,
   "id": "c60ac05a",
   "metadata": {},
   "outputs": [],
   "source": [
    "# txt 파일 저장\n",
    "# sep: 구분자 변경 가능 (기본값 ',') \n",
    "# df.to_csv('data/score.txt',encoding='utf-8')\n",
    "df.to_csv('data/score.txt',sep='\\t',encoding='utf-8')"
   ]
  },
  {
   "cell_type": "code",
   "execution_count": 6,
   "id": "f481d73d",
   "metadata": {},
   "outputs": [],
   "source": [
    "# excel파일 저장\n",
    "# 인코딩 옵션 없음!!\n",
    "df.to_excel('data/score.xlsx')"
   ]
  },
  {
   "cell_type": "markdown",
   "id": "d8145eec",
   "metadata": {},
   "source": [
    "파일 읽기"
   ]
  },
  {
   "cell_type": "code",
   "execution_count": null,
   "id": "bbe9983c",
   "metadata": {},
   "outputs": [],
   "source": [
    "# csv파일 읽기\n",
    "# 어떤 컬럼을 index로 사용할 것인지 지정가능 : index_col\n",
    "df_read = pd.read_csv('data/score.csv',index_col='지원번호')"
   ]
  },
  {
   "cell_type": "code",
   "execution_count": 17,
   "id": "d6c62310",
   "metadata": {},
   "outputs": [],
   "source": [
    "# txt파일 읽기\n",
    "# sep으로 어떤 구분자를 기준으로 DataFrame 형태로 바꿀 것인지 지정 가능\n",
    "# 구분자를 맞추지 않으면 형태가 어긋남\n",
    "df_read = pd.read_csv('data/score.txt',sep='\\t',index_col='지원번호')"
   ]
  },
  {
   "cell_type": "code",
   "execution_count": 28,
   "id": "ad520b1d",
   "metadata": {},
   "outputs": [],
   "source": [
    "# excel파일 읽기\n",
    "# skiprows: 상단의 row를 제외하고 출력 \n",
    "df_read = pd.read_excel('data/score.xlsx')\n",
    "# df_read = pd.read_excel('data/score.xlsx',index_col = '지원번호')\n",
    "# df_read = pd.read_excel('data/score.xlsx',skiprows=3)   # index가 지정되어 있으면 skiprow 불가 ?? 밑에 거 보면 그렇지는 않은데\n",
    "# df_read.set_index('지원번호')"
   ]
  },
  {
   "cell_type": "code",
   "execution_count": null,
   "id": "095b4eb9",
   "metadata": {},
   "outputs": [
    {
     "name": "stderr",
     "output_type": "stream",
     "text": [
      "c:\\python3\\Lib\\site-packages\\openpyxl\\styles\\stylesheet.py:237: UserWarning: Workbook contains no default style, apply openpyxl's default\n",
      "  warn(\"Workbook contains no default style, apply openpyxl's default\")\n"
     ]
    }
   ],
   "source": [
    "# usecols: 출력할 컬럼을 지정 (엑셀 문서 상의 인덱스만 사용?) - 해당 컬럼 포함\n",
    "# nrows: row를 위부터 출력할 개수 지정\n",
    "df_read = pd.read_excel('data/2024people.xlsx',skiprows=2,index_col='행정기관',usecols='A:B,C:F',nrows=2)"
   ]
  },
  {
   "cell_type": "code",
   "execution_count": 38,
   "id": "648bb061",
   "metadata": {},
   "outputs": [
    {
     "data": {
      "text/html": [
       "<div>\n",
       "<style scoped>\n",
       "    .dataframe tbody tr th:only-of-type {\n",
       "        vertical-align: middle;\n",
       "    }\n",
       "\n",
       "    .dataframe tbody tr th {\n",
       "        vertical-align: top;\n",
       "    }\n",
       "\n",
       "    .dataframe thead th {\n",
       "        text-align: right;\n",
       "    }\n",
       "</style>\n",
       "<table border=\"1\" class=\"dataframe\">\n",
       "  <thead>\n",
       "    <tr style=\"text-align: right;\">\n",
       "      <th></th>\n",
       "      <th>행정기관코드</th>\n",
       "      <th>총인구수</th>\n",
       "      <th>세대수</th>\n",
       "      <th>세대당 인구</th>\n",
       "      <th>남자 인구수</th>\n",
       "    </tr>\n",
       "    <tr>\n",
       "      <th>행정기관</th>\n",
       "      <th></th>\n",
       "      <th></th>\n",
       "      <th></th>\n",
       "      <th></th>\n",
       "      <th></th>\n",
       "    </tr>\n",
       "  </thead>\n",
       "  <tbody>\n",
       "    <tr>\n",
       "      <th>전국</th>\n",
       "      <td>1000000000</td>\n",
       "      <td>51,217,221</td>\n",
       "      <td>24,118,928</td>\n",
       "      <td>2.12</td>\n",
       "      <td>25,498,324</td>\n",
       "    </tr>\n",
       "    <tr>\n",
       "      <th>서울특별시</th>\n",
       "      <td>1100000000</td>\n",
       "      <td>9,331,828</td>\n",
       "      <td>4,482,063</td>\n",
       "      <td>2.08</td>\n",
       "      <td>4,505,355</td>\n",
       "    </tr>\n",
       "  </tbody>\n",
       "</table>\n",
       "</div>"
      ],
      "text/plain": [
       "             행정기관코드        총인구수         세대수  세대당 인구      남자 인구수\n",
       "행정기관                                                           \n",
       "전국       1000000000  51,217,221  24,118,928    2.12  25,498,324\n",
       "서울특별시    1100000000   9,331,828   4,482,063    2.08   4,505,355"
      ]
     },
     "execution_count": 38,
     "metadata": {},
     "output_type": "execute_result"
    }
   ],
   "source": [
    "df_read"
   ]
  }
 ],
 "metadata": {
  "kernelspec": {
   "display_name": "Python 3",
   "language": "python",
   "name": "python3"
  },
  "language_info": {
   "codemirror_mode": {
    "name": "ipython",
    "version": 3
   },
   "file_extension": ".py",
   "mimetype": "text/x-python",
   "name": "python",
   "nbconvert_exporter": "python",
   "pygments_lexer": "ipython3",
   "version": "3.13.2"
  }
 },
 "nbformat": 4,
 "nbformat_minor": 5
}
