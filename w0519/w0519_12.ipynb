{
 "cells": [
  {
   "cell_type": "markdown",
   "id": "e8a1f7b4",
   "metadata": {},
   "source": [
    "14,15,16 4월 사고 데이터 출력\n",
    "encoding='euc-kr'"
   ]
  },
  {
   "cell_type": "code",
   "execution_count": 2,
   "id": "911b21c6",
   "metadata": {},
   "outputs": [],
   "source": [
    "import pandas as pd"
   ]
  },
  {
   "cell_type": "markdown",
   "id": "3d402003",
   "metadata": {},
   "source": [
    "encoding='euc_kr' 대신 메모장으로 열기 > 다른이름으로 저장 > 인코딩 방식 변경 가능"
   ]
  },
  {
   "cell_type": "code",
   "execution_count": 46,
   "id": "6f644018",
   "metadata": {},
   "outputs": [
    {
     "data": {
      "text/html": [
       "<div>\n",
       "<style scoped>\n",
       "    .dataframe tbody tr th:only-of-type {\n",
       "        vertical-align: middle;\n",
       "    }\n",
       "\n",
       "    .dataframe tbody tr th {\n",
       "        vertical-align: top;\n",
       "    }\n",
       "\n",
       "    .dataframe thead th {\n",
       "        text-align: right;\n",
       "    }\n",
       "</style>\n",
       "<table border=\"1\" class=\"dataframe\">\n",
       "  <thead>\n",
       "    <tr style=\"text-align: right;\">\n",
       "      <th></th>\n",
       "      <th>사고(건)</th>\n",
       "    </tr>\n",
       "    <tr>\n",
       "      <th>구분</th>\n",
       "      <th></th>\n",
       "    </tr>\n",
       "  </thead>\n",
       "  <tbody>\n",
       "    <tr>\n",
       "      <th>2014년4월</th>\n",
       "      <td>182</td>\n",
       "    </tr>\n",
       "    <tr>\n",
       "      <th>2015년4월</th>\n",
       "      <td>227</td>\n",
       "    </tr>\n",
       "    <tr>\n",
       "      <th>2016년4월</th>\n",
       "      <td>216</td>\n",
       "    </tr>\n",
       "  </tbody>\n",
       "</table>\n",
       "</div>"
      ],
      "text/plain": [
       "         사고(건)\n",
       "구분            \n",
       "2014년4월    182\n",
       "2015년4월    227\n",
       "2016년4월    216"
      ]
     },
     "execution_count": 46,
     "metadata": {},
     "output_type": "execute_result"
    }
   ],
   "source": [
    "caracc14 = pd.read_csv('data/2014년졸음운전교통사고.csv',encoding='euc_kr',index_col='구분')\n",
    "caracc14.iloc[[3],[0]]\n",
    "caracc14.loc[['2014년4월'],['사고(건)']]\n",
    "\n",
    "caracc15 = pd.read_csv('data/2015년졸음운전교통사고.csv',encoding='euc_kr',index_col = '구분')\n",
    "caracc15.iloc[[3],[0]]\n",
    "caracc15.loc[['2015년4월'],['사고(건)']]\n",
    "\n",
    "caracc16 = pd.read_csv('data/2016년졸음운전교통사고.csv',encoding='euc_kr',index_col = '구분')\n",
    "caracc16.iloc[[3],[0]]\n",
    "caracc16.loc[['2016년4월'],['사고(건)']]\n",
    "\n",
    "df = pd.concat([caracc14,caracc15,caracc16])\n",
    "df\n",
    "\n",
    "df.iloc[[3,15,27],[0]]\n"
   ]
  }
 ],
 "metadata": {
  "kernelspec": {
   "display_name": "Python 3",
   "language": "python",
   "name": "python3"
  },
  "language_info": {
   "codemirror_mode": {
    "name": "ipython",
    "version": 3
   },
   "file_extension": ".py",
   "mimetype": "text/x-python",
   "name": "python",
   "nbconvert_exporter": "python",
   "pygments_lexer": "ipython3",
   "version": "3.13.2"
  }
 },
 "nbformat": 4,
 "nbformat_minor": 5
}
