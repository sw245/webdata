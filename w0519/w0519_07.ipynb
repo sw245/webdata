{
 "cells": [
  {
   "cell_type": "code",
   "execution_count": 22,
   "id": "ace813d1",
   "metadata": {},
   "outputs": [],
   "source": [
    "import pandas as pd\n"
   ]
  },
  {
   "cell_type": "code",
   "execution_count": null,
   "id": "ed32df9d",
   "metadata": {},
   "outputs": [
    {
     "name": "stderr",
     "output_type": "stream",
     "text": [
      "c:\\python3\\Lib\\site-packages\\openpyxl\\styles\\stylesheet.py:237: UserWarning: Workbook contains no default style, apply openpyxl's default\n",
      "  warn(\"Workbook contains no default style, apply openpyxl's default\")\n"
     ]
    },
    {
     "data": {
      "text/plain": [
       "Index(['0~9세', '10~19세', '20~29세', '30~39세', '40~49세', '50~59세', '60~69세',\n",
       "       '70~79세', '80~89세', '90~99세', '100세 이상'],\n",
       "      dtype='object')"
      ]
     },
     "execution_count": 23,
     "metadata": {},
     "output_type": "execute_result"
    }
   ],
   "source": [
    "df = pd.read_excel('data/2024people_age.xlsx',skiprows=3,usecols='B,E:O',index_col = '행정기관',nrows=1)\n",
    "\n",
    "df.columns"
   ]
  },
  {
   "cell_type": "code",
   "execution_count": 33,
   "id": "3b255e79",
   "metadata": {},
   "outputs": [
    {
     "name": "stderr",
     "output_type": "stream",
     "text": [
      "c:\\python3\\Lib\\site-packages\\openpyxl\\styles\\stylesheet.py:237: UserWarning: Workbook contains no default style, apply openpyxl's default\n",
      "  warn(\"Workbook contains no default style, apply openpyxl's default\")\n"
     ]
    },
    {
     "data": {
      "text/plain": [
       "행정기관\n",
       "전국      1,531,058\n",
       "Name: 0~9세, dtype: object"
      ]
     },
     "execution_count": 33,
     "metadata": {},
     "output_type": "execute_result"
    }
   ],
   "source": [
    "\n",
    "w_df = pd.read_excel('data/2024people_age.xlsx',skiprows=3,usecols='B,AE:AO',index_col = '행정기관',nrows=1)\n",
    "\n",
    "w_df.columns = df.columns\n",
    "\n",
    "w_df.columns\n",
    "\n",
    "w_df['0~9세']"
   ]
  },
  {
   "cell_type": "code",
   "execution_count": 34,
   "id": "afd1dca4",
   "metadata": {},
   "outputs": [
    {
     "name": "stderr",
     "output_type": "stream",
     "text": [
      "c:\\python3\\Lib\\site-packages\\openpyxl\\styles\\stylesheet.py:237: UserWarning: Workbook contains no default style, apply openpyxl's default\n",
      "  warn(\"Workbook contains no default style, apply openpyxl's default\")\n"
     ]
    },
    {
     "data": {
      "text/plain": [
       "Index(['0~9세', '10~19세', '20~29세', '30~39세', '40~49세', '50~59세', '60~69세',\n",
       "       '70~79세', '80~89세', '90~99세', '100세 이상'],\n",
       "      dtype='object')"
      ]
     },
     "execution_count": 34,
     "metadata": {},
     "output_type": "execute_result"
    }
   ],
   "source": [
    "m_df = pd.read_excel('data/2024people_age.xlsx',skiprows=3,usecols='B,R:AB',index_col = '행정기관',nrows=1)\n",
    "\n",
    "m_df.columns = df.columns\n",
    "m_df.columns"
   ]
  },
  {
   "cell_type": "code",
   "execution_count": 37,
   "id": "ffe8e408",
   "metadata": {},
   "outputs": [
    {
     "data": {
      "text/plain": [
       "행정기관\n",
       "전국      1,609,060\n",
       "Name: 0~9세, dtype: object"
      ]
     },
     "execution_count": 37,
     "metadata": {},
     "output_type": "execute_result"
    }
   ],
   "source": [
    "df['0~9세']\n",
    "m_df['0~9세']"
   ]
  },
  {
   "cell_type": "code",
   "execution_count": 32,
   "id": "9d101bb7",
   "metadata": {},
   "outputs": [
    {
     "data": {
      "text/html": [
       "<div>\n",
       "<style scoped>\n",
       "    .dataframe tbody tr th:only-of-type {\n",
       "        vertical-align: middle;\n",
       "    }\n",
       "\n",
       "    .dataframe tbody tr th {\n",
       "        vertical-align: top;\n",
       "    }\n",
       "\n",
       "    .dataframe thead th {\n",
       "        text-align: right;\n",
       "    }\n",
       "</style>\n",
       "<table border=\"1\" class=\"dataframe\">\n",
       "  <thead>\n",
       "    <tr style=\"text-align: right;\">\n",
       "      <th></th>\n",
       "      <th>0~9세</th>\n",
       "      <th>10~19세</th>\n",
       "      <th>20~29세</th>\n",
       "      <th>30~39세</th>\n",
       "      <th>40~49세</th>\n",
       "      <th>50~59세</th>\n",
       "      <th>60~69세</th>\n",
       "      <th>70~79세</th>\n",
       "      <th>80~89세</th>\n",
       "      <th>90~99세</th>\n",
       "      <th>100세 이상</th>\n",
       "    </tr>\n",
       "    <tr>\n",
       "      <th>행정기관</th>\n",
       "      <th></th>\n",
       "      <th></th>\n",
       "      <th></th>\n",
       "      <th></th>\n",
       "      <th></th>\n",
       "      <th></th>\n",
       "      <th></th>\n",
       "      <th></th>\n",
       "      <th></th>\n",
       "      <th></th>\n",
       "      <th></th>\n",
       "    </tr>\n",
       "  </thead>\n",
       "  <tbody>\n",
       "    <tr>\n",
       "      <th>전국</th>\n",
       "      <td>1,609,060</td>\n",
       "      <td>2,373,758</td>\n",
       "      <td>3,100,524</td>\n",
       "      <td>3,457,978</td>\n",
       "      <td>3,926,120</td>\n",
       "      <td>4,391,271</td>\n",
       "      <td>3,850,559</td>\n",
       "      <td>1,931,802</td>\n",
       "      <td>778,170</td>\n",
       "      <td>77,557</td>\n",
       "      <td>1,525</td>\n",
       "    </tr>\n",
       "  </tbody>\n",
       "</table>\n",
       "</div>"
      ],
      "text/plain": [
       "           0~9세     10~19세     20~29세     30~39세     40~49세     50~59세  \\\n",
       "행정기관                                                                     \n",
       "전국    1,609,060  2,373,758  3,100,524  3,457,978  3,926,120  4,391,271   \n",
       "\n",
       "         60~69세     70~79세   80~89세  90~99세 100세 이상  \n",
       "행정기관                                                 \n",
       "전국    3,850,559  1,931,802  778,170  77,557   1,525  "
      ]
     },
     "execution_count": 32,
     "metadata": {},
     "output_type": "execute_result"
    }
   ],
   "source": [
    "w_df\n",
    "m_df"
   ]
  }
 ],
 "metadata": {
  "kernelspec": {
   "display_name": "Python 3",
   "language": "python",
   "name": "python3"
  },
  "language_info": {
   "codemirror_mode": {
    "name": "ipython",
    "version": 3
   },
   "file_extension": ".py",
   "mimetype": "text/x-python",
   "name": "python",
   "nbconvert_exporter": "python",
   "pygments_lexer": "ipython3",
   "version": "3.13.2"
  }
 },
 "nbformat": 4,
 "nbformat_minor": 5
}
