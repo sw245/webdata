{
 "cells": [
  {
   "cell_type": "code",
   "execution_count": 67,
   "id": "f3f4a5f7",
   "metadata": {},
   "outputs": [],
   "source": [
    "# 제목, 개봉일, 평점\n",
    "# 평점에 대한 평균, 합계, 최댓값, 최솟값 출력 > dataframe 사용해서 적용하기\n",
    "# 파일로 저장 >> 슬랙방 업로드"
   ]
  },
  {
   "cell_type": "code",
   "execution_count": 68,
   "id": "3a0a68d8",
   "metadata": {},
   "outputs": [],
   "source": [
    "# import requests\n",
    "from bs4 import BeautifulSoup\n",
    "from selenium import webdriver\n",
    "from selenium.webdriver.common.keys import Keys\n",
    "from selenium.webdriver.common.by import By\n",
    "from selenium.webdriver.chrome.options import Options\n",
    "import time\n",
    "import csv\n",
    "\n",
    "# url = 'https://search.naver.com/search.naver?where=nexearch&sm=tab_etc&qvt=0&query=%EC%9B%94%EB%B3%84%EA%B0%9C%EB%B4%89%EC%98%81%ED%99%94'\n",
    "# res = requests.get(url)\n",
    "# res.raise_for_status()\n",
    "\n",
    "options = Options()\n",
    "options.add_argument(\"--disable-blink-features=AutomationControlled\")   # 자동화 티 안 나게??\n",
    "options.add_argument(\"start-maximized\")\n",
    "options.add_argument(\"user-agent=Mozilla/5.0 (Windows NT 10.0; Win64; x64) AppleWebKit/537.36 (KHTML, like Gecko) Chrome/123.0.0.0 Safari/537.36\")\n",
    "options.add_experimental_option(\"excludeSwitches\", [\"enable-automation\"])\n",
    "options.add_experimental_option('useAutomationExtension', False)\n",
    "\n",
    "browser = webdriver.Chrome(options=options)\n",
    "\n",
    "url = 'https://search.naver.com/search.naver?where=nexearch&sm=tab_etc&qvt=0&query=%EC%9B%94%EB%B3%84%EA%B0%9C%EB%B4%89%EC%98%81%ED%99%94'\n",
    "browser.get(url)\n",
    "time.sleep(2)\n",
    "\n",
    "browser.find_element(By.XPATH,'//*[@id=\"main_pack\"]/div[3]/div[2]/div/div/div/div[1]/div[3]/div/div/ul[2]/li[1]/a').click()\n",
    "time.sleep(1)"
   ]
  },
  {
   "cell_type": "code",
   "execution_count": 69,
   "id": "ae61f181",
   "metadata": {},
   "outputs": [
    {
     "data": {
      "text/plain": [
       "11"
      ]
     },
     "execution_count": 69,
     "metadata": {},
     "output_type": "execute_result"
    }
   ],
   "source": [
    "f = open('files/movies.csv','w',encoding='utf-8-sig',newline='')\n",
    "write = csv.writer(f)\n",
    "category = ['제목','개봉일','평점']\n",
    "write.writerow(category)"
   ]
  },
  {
   "cell_type": "code",
   "execution_count": 70,
   "id": "7b324925",
   "metadata": {},
   "outputs": [],
   "source": [
    "def parse():\n",
    "    soup = BeautifulSoup(browser.page_source,'lxml')\n",
    "\n",
    "    box = soup.find('div',{'class':'card_content _result_area'})\n",
    "    movies = box.find_all('div',{'class':'data_area'})\n",
    "    for m in movies:\n",
    "        title = m.find('a',{'class':'this_text _text'}).get_text()\n",
    "        rdate = m.find('dl',{'class':'info_group type_visible'}).dd.get_text()\n",
    "        rating = m.find('span',{'class':'num'}).get_text()\n",
    "        write.writerow([title,rdate,rating])\n",
    "        \n",
    "parse()"
   ]
  },
  {
   "cell_type": "code",
   "execution_count": 71,
   "id": "7a2f42df",
   "metadata": {},
   "outputs": [],
   "source": [
    "# browser.find_element(By.XPATH,'//*[@id=\"main_pack\"]/div[3]/div[2]/div/div/div/div[2]/div[4]/div/a[2]').click()"
   ]
  },
  {
   "cell_type": "code",
   "execution_count": 72,
   "id": "b82cd7dd",
   "metadata": {},
   "outputs": [
    {
     "ename": "AttributeError",
     "evalue": "'NoneType' object has no attribute 'get_text'",
     "output_type": "error",
     "traceback": [
      "\u001b[31m---------------------------------------------------------------------------\u001b[39m",
      "\u001b[31mAttributeError\u001b[39m                            Traceback (most recent call last)",
      "\u001b[36mCell\u001b[39m\u001b[36m \u001b[39m\u001b[32mIn[72]\u001b[39m\u001b[32m, line 13\u001b[39m\n\u001b[32m     11\u001b[39m browser.find_element(By.XPATH,\u001b[33m'\u001b[39m\u001b[33m//*[@id=\u001b[39m\u001b[33m\"\u001b[39m\u001b[33mmain_pack\u001b[39m\u001b[33m\"\u001b[39m\u001b[33m]/div[3]/div[2]/div/div/div/div[2]/div[4]/div/a[2]\u001b[39m\u001b[33m'\u001b[39m).click()\n\u001b[32m     12\u001b[39m time.sleep(\u001b[32m1\u001b[39m)\n\u001b[32m---> \u001b[39m\u001b[32m13\u001b[39m \u001b[43mparse\u001b[49m\u001b[43m(\u001b[49m\u001b[43m)\u001b[49m\n",
      "\u001b[36mCell\u001b[39m\u001b[36m \u001b[39m\u001b[32mIn[70]\u001b[39m\u001b[32m, line 9\u001b[39m, in \u001b[36mparse\u001b[39m\u001b[34m()\u001b[39m\n\u001b[32m      7\u001b[39m title = m.find(\u001b[33m'\u001b[39m\u001b[33ma\u001b[39m\u001b[33m'\u001b[39m,{\u001b[33m'\u001b[39m\u001b[33mclass\u001b[39m\u001b[33m'\u001b[39m:\u001b[33m'\u001b[39m\u001b[33mthis_text _text\u001b[39m\u001b[33m'\u001b[39m}).get_text()\n\u001b[32m      8\u001b[39m rdate = m.find(\u001b[33m'\u001b[39m\u001b[33mdl\u001b[39m\u001b[33m'\u001b[39m,{\u001b[33m'\u001b[39m\u001b[33mclass\u001b[39m\u001b[33m'\u001b[39m:\u001b[33m'\u001b[39m\u001b[33minfo_group type_visible\u001b[39m\u001b[33m'\u001b[39m}).dd.get_text()\n\u001b[32m----> \u001b[39m\u001b[32m9\u001b[39m rating = \u001b[43mm\u001b[49m\u001b[43m.\u001b[49m\u001b[43mfind\u001b[49m\u001b[43m(\u001b[49m\u001b[33;43m'\u001b[39;49m\u001b[33;43mspan\u001b[39;49m\u001b[33;43m'\u001b[39;49m\u001b[43m,\u001b[49m\u001b[43m{\u001b[49m\u001b[33;43m'\u001b[39;49m\u001b[33;43mclass\u001b[39;49m\u001b[33;43m'\u001b[39;49m\u001b[43m:\u001b[49m\u001b[33;43m'\u001b[39;49m\u001b[33;43mnum\u001b[39;49m\u001b[33;43m'\u001b[39;49m\u001b[43m}\u001b[49m\u001b[43m)\u001b[49m\u001b[43m.\u001b[49m\u001b[43mget_text\u001b[49m()\n\u001b[32m     10\u001b[39m write.writerow([title,rdate,rating])\n",
      "\u001b[31mAttributeError\u001b[39m: 'NoneType' object has no attribute 'get_text'"
     ]
    }
   ],
   "source": [
    "soup2 = BeautifulSoup(browser.page_source,'lxml')\n",
    "pages = soup2.find('span',{'class':'npgs'})\n",
    "p_num = int(pages.find('span',{'class':'_total'}).get_text())\n",
    "p_curr = 0\n",
    "# print(p_num)\n",
    "\n",
    "while p_curr != p_num:\n",
    "    soup2 = BeautifulSoup(browser.page_source,'lxml')\n",
    "    pages = soup2.find('span',{'class':'npgs'})\n",
    "    p_curr = int(pages.find('strong',{'class':'npgs_now _current'}).get_text())\n",
    "    browser.find_element(By.XPATH,'//*[@id=\"main_pack\"]/div[3]/div[2]/div/div/div/div[2]/div[4]/div/a[2]').click()\n",
    "    time.sleep(1)\n",
    "    parse()"
   ]
  },
  {
   "cell_type": "code",
   "execution_count": null,
   "id": "d95dc5dd",
   "metadata": {},
   "outputs": [
    {
     "ename": "EmptyDataError",
     "evalue": "No columns to parse from file",
     "output_type": "error",
     "traceback": [
      "\u001b[31m---------------------------------------------------------------------------\u001b[39m",
      "\u001b[31mEmptyDataError\u001b[39m                            Traceback (most recent call last)",
      "\u001b[36mCell\u001b[39m\u001b[36m \u001b[39m\u001b[32mIn[66]\u001b[39m\u001b[32m, line 3\u001b[39m\n\u001b[32m      1\u001b[39m \u001b[38;5;28;01mimport\u001b[39;00m\u001b[38;5;250m \u001b[39m\u001b[34;01mpandas\u001b[39;00m\u001b[38;5;250m \u001b[39m\u001b[38;5;28;01mas\u001b[39;00m\u001b[38;5;250m \u001b[39m\u001b[34;01mpd\u001b[39;00m\n\u001b[32m----> \u001b[39m\u001b[32m3\u001b[39m df = \u001b[43mpd\u001b[49m\u001b[43m.\u001b[49m\u001b[43mread_csv\u001b[49m\u001b[43m(\u001b[49m\u001b[33;43m'\u001b[39;49m\u001b[33;43mfiles/movies.csv\u001b[39;49m\u001b[33;43m'\u001b[39;49m\u001b[43m)\u001b[49m\n\u001b[32m      4\u001b[39m mean = df[\u001b[33m'\u001b[39m\u001b[33m평점\u001b[39m\u001b[33m'\u001b[39m].mean()\n\u001b[32m      5\u001b[39m \u001b[38;5;28msum\u001b[39m = df[\u001b[33m'\u001b[39m\u001b[33m평점\u001b[39m\u001b[33m'\u001b[39m].sum()\n",
      "\u001b[36mFile \u001b[39m\u001b[32mc:\\python3\\Lib\\site-packages\\pandas\\io\\parsers\\readers.py:1026\u001b[39m, in \u001b[36mread_csv\u001b[39m\u001b[34m(filepath_or_buffer, sep, delimiter, header, names, index_col, usecols, dtype, engine, converters, true_values, false_values, skipinitialspace, skiprows, skipfooter, nrows, na_values, keep_default_na, na_filter, verbose, skip_blank_lines, parse_dates, infer_datetime_format, keep_date_col, date_parser, date_format, dayfirst, cache_dates, iterator, chunksize, compression, thousands, decimal, lineterminator, quotechar, quoting, doublequote, escapechar, comment, encoding, encoding_errors, dialect, on_bad_lines, delim_whitespace, low_memory, memory_map, float_precision, storage_options, dtype_backend)\u001b[39m\n\u001b[32m   1013\u001b[39m kwds_defaults = _refine_defaults_read(\n\u001b[32m   1014\u001b[39m     dialect,\n\u001b[32m   1015\u001b[39m     delimiter,\n\u001b[32m   (...)\u001b[39m\u001b[32m   1022\u001b[39m     dtype_backend=dtype_backend,\n\u001b[32m   1023\u001b[39m )\n\u001b[32m   1024\u001b[39m kwds.update(kwds_defaults)\n\u001b[32m-> \u001b[39m\u001b[32m1026\u001b[39m \u001b[38;5;28;01mreturn\u001b[39;00m \u001b[43m_read\u001b[49m\u001b[43m(\u001b[49m\u001b[43mfilepath_or_buffer\u001b[49m\u001b[43m,\u001b[49m\u001b[43m \u001b[49m\u001b[43mkwds\u001b[49m\u001b[43m)\u001b[49m\n",
      "\u001b[36mFile \u001b[39m\u001b[32mc:\\python3\\Lib\\site-packages\\pandas\\io\\parsers\\readers.py:620\u001b[39m, in \u001b[36m_read\u001b[39m\u001b[34m(filepath_or_buffer, kwds)\u001b[39m\n\u001b[32m    617\u001b[39m _validate_names(kwds.get(\u001b[33m\"\u001b[39m\u001b[33mnames\u001b[39m\u001b[33m\"\u001b[39m, \u001b[38;5;28;01mNone\u001b[39;00m))\n\u001b[32m    619\u001b[39m \u001b[38;5;66;03m# Create the parser.\u001b[39;00m\n\u001b[32m--> \u001b[39m\u001b[32m620\u001b[39m parser = \u001b[43mTextFileReader\u001b[49m\u001b[43m(\u001b[49m\u001b[43mfilepath_or_buffer\u001b[49m\u001b[43m,\u001b[49m\u001b[43m \u001b[49m\u001b[43m*\u001b[49m\u001b[43m*\u001b[49m\u001b[43mkwds\u001b[49m\u001b[43m)\u001b[49m\n\u001b[32m    622\u001b[39m \u001b[38;5;28;01mif\u001b[39;00m chunksize \u001b[38;5;129;01mor\u001b[39;00m iterator:\n\u001b[32m    623\u001b[39m     \u001b[38;5;28;01mreturn\u001b[39;00m parser\n",
      "\u001b[36mFile \u001b[39m\u001b[32mc:\\python3\\Lib\\site-packages\\pandas\\io\\parsers\\readers.py:1620\u001b[39m, in \u001b[36mTextFileReader.__init__\u001b[39m\u001b[34m(self, f, engine, **kwds)\u001b[39m\n\u001b[32m   1617\u001b[39m     \u001b[38;5;28mself\u001b[39m.options[\u001b[33m\"\u001b[39m\u001b[33mhas_index_names\u001b[39m\u001b[33m\"\u001b[39m] = kwds[\u001b[33m\"\u001b[39m\u001b[33mhas_index_names\u001b[39m\u001b[33m\"\u001b[39m]\n\u001b[32m   1619\u001b[39m \u001b[38;5;28mself\u001b[39m.handles: IOHandles | \u001b[38;5;28;01mNone\u001b[39;00m = \u001b[38;5;28;01mNone\u001b[39;00m\n\u001b[32m-> \u001b[39m\u001b[32m1620\u001b[39m \u001b[38;5;28mself\u001b[39m._engine = \u001b[38;5;28;43mself\u001b[39;49m\u001b[43m.\u001b[49m\u001b[43m_make_engine\u001b[49m\u001b[43m(\u001b[49m\u001b[43mf\u001b[49m\u001b[43m,\u001b[49m\u001b[43m \u001b[49m\u001b[38;5;28;43mself\u001b[39;49m\u001b[43m.\u001b[49m\u001b[43mengine\u001b[49m\u001b[43m)\u001b[49m\n",
      "\u001b[36mFile \u001b[39m\u001b[32mc:\\python3\\Lib\\site-packages\\pandas\\io\\parsers\\readers.py:1898\u001b[39m, in \u001b[36mTextFileReader._make_engine\u001b[39m\u001b[34m(self, f, engine)\u001b[39m\n\u001b[32m   1895\u001b[39m     \u001b[38;5;28;01mraise\u001b[39;00m \u001b[38;5;167;01mValueError\u001b[39;00m(msg)\n\u001b[32m   1897\u001b[39m \u001b[38;5;28;01mtry\u001b[39;00m:\n\u001b[32m-> \u001b[39m\u001b[32m1898\u001b[39m     \u001b[38;5;28;01mreturn\u001b[39;00m \u001b[43mmapping\u001b[49m\u001b[43m[\u001b[49m\u001b[43mengine\u001b[49m\u001b[43m]\u001b[49m\u001b[43m(\u001b[49m\u001b[43mf\u001b[49m\u001b[43m,\u001b[49m\u001b[43m \u001b[49m\u001b[43m*\u001b[49m\u001b[43m*\u001b[49m\u001b[38;5;28;43mself\u001b[39;49m\u001b[43m.\u001b[49m\u001b[43moptions\u001b[49m\u001b[43m)\u001b[49m\n\u001b[32m   1899\u001b[39m \u001b[38;5;28;01mexcept\u001b[39;00m \u001b[38;5;167;01mException\u001b[39;00m:\n\u001b[32m   1900\u001b[39m     \u001b[38;5;28;01mif\u001b[39;00m \u001b[38;5;28mself\u001b[39m.handles \u001b[38;5;129;01mis\u001b[39;00m \u001b[38;5;129;01mnot\u001b[39;00m \u001b[38;5;28;01mNone\u001b[39;00m:\n",
      "\u001b[36mFile \u001b[39m\u001b[32mc:\\python3\\Lib\\site-packages\\pandas\\io\\parsers\\c_parser_wrapper.py:93\u001b[39m, in \u001b[36mCParserWrapper.__init__\u001b[39m\u001b[34m(self, src, **kwds)\u001b[39m\n\u001b[32m     90\u001b[39m \u001b[38;5;28;01mif\u001b[39;00m kwds[\u001b[33m\"\u001b[39m\u001b[33mdtype_backend\u001b[39m\u001b[33m\"\u001b[39m] == \u001b[33m\"\u001b[39m\u001b[33mpyarrow\u001b[39m\u001b[33m\"\u001b[39m:\n\u001b[32m     91\u001b[39m     \u001b[38;5;66;03m# Fail here loudly instead of in cython after reading\u001b[39;00m\n\u001b[32m     92\u001b[39m     import_optional_dependency(\u001b[33m\"\u001b[39m\u001b[33mpyarrow\u001b[39m\u001b[33m\"\u001b[39m)\n\u001b[32m---> \u001b[39m\u001b[32m93\u001b[39m \u001b[38;5;28mself\u001b[39m._reader = \u001b[43mparsers\u001b[49m\u001b[43m.\u001b[49m\u001b[43mTextReader\u001b[49m\u001b[43m(\u001b[49m\u001b[43msrc\u001b[49m\u001b[43m,\u001b[49m\u001b[43m \u001b[49m\u001b[43m*\u001b[49m\u001b[43m*\u001b[49m\u001b[43mkwds\u001b[49m\u001b[43m)\u001b[49m\n\u001b[32m     95\u001b[39m \u001b[38;5;28mself\u001b[39m.unnamed_cols = \u001b[38;5;28mself\u001b[39m._reader.unnamed_cols\n\u001b[32m     97\u001b[39m \u001b[38;5;66;03m# error: Cannot determine type of 'names'\u001b[39;00m\n",
      "\u001b[36mFile \u001b[39m\u001b[32mparsers.pyx:581\u001b[39m, in \u001b[36mpandas._libs.parsers.TextReader.__cinit__\u001b[39m\u001b[34m()\u001b[39m\n",
      "\u001b[31mEmptyDataError\u001b[39m: No columns to parse from file"
     ]
    }
   ],
   "source": [
    "import pandas as pd\n",
    "\n",
    "df = pd.read_csv('files/movies.csv')\n",
    "mean = df['평점'].mean()\n",
    "sum = df['평점'].sum()\n",
    "max = df['평점'].max()\n",
    "min = df['평점'].min()\n",
    "count = df['평점'].count()\n",
    "print(f'영화 수 : {count}')\n",
    "print(f'평점 평균 : {mean}')\n",
    "print(f'평점 합계 : {sum}')\n",
    "print(f'최대 평점 : {max}')\n",
    "print(f'최소 평점 : {min}')"
   ]
  },
  {
   "cell_type": "code",
   "execution_count": null,
   "id": "566f9203",
   "metadata": {},
   "outputs": [
    {
     "name": "stdout",
     "output_type": "stream",
     "text": [
      "<class 'pandas.core.frame.DataFrame'>\n",
      "RangeIndex: 8 entries, 0 to 7\n",
      "Data columns (total 3 columns):\n",
      " #   Column  Non-Null Count  Dtype  \n",
      "---  ------  --------------  -----  \n",
      " 0   제목      8 non-null      object \n",
      " 1   개봉일     8 non-null      object \n",
      " 2   평점      8 non-null      float64\n",
      "dtypes: float64(1), object(2)\n",
      "memory usage: 324.0+ bytes\n"
     ]
    }
   ],
   "source": [
    "df\n",
    "df.info()"
   ]
  },
  {
   "cell_type": "code",
   "execution_count": null,
   "id": "be9dd4a8",
   "metadata": {},
   "outputs": [],
   "source": [
    "f.close()"
   ]
  }
 ],
 "metadata": {
  "kernelspec": {
   "display_name": "Python 3",
   "language": "python",
   "name": "python3"
  },
  "language_info": {
   "codemirror_mode": {
    "name": "ipython",
    "version": 3
   },
   "file_extension": ".py",
   "mimetype": "text/x-python",
   "name": "python",
   "nbconvert_exporter": "python",
   "pygments_lexer": "ipython3",
   "version": "3.13.2"
  }
 },
 "nbformat": 4,
 "nbformat_minor": 5
}
