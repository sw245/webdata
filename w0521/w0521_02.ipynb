{
 "cells": [
  {
   "cell_type": "code",
   "execution_count": 1,
   "id": "f0ea37d7",
   "metadata": {},
   "outputs": [],
   "source": [
    "import pandas as pd\n",
    "import numpy as np"
   ]
  },
  {
   "cell_type": "code",
   "execution_count": 30,
   "id": "5ad3de7e",
   "metadata": {},
   "outputs": [],
   "source": [
    "df = pd.read_excel('data/score.xlsx',index_col='지원번호')"
   ]
  },
  {
   "cell_type": "code",
   "execution_count": null,
   "id": "6b70523c",
   "metadata": {},
   "outputs": [],
   "source": [
    "## 행 수정\n",
    "# df.loc['4번','SW특기'] = 'C'\n",
    "# df.loc[df['SW특기'].isna(),'SW특기'] = 'C'\n",
    "\n",
    "# df['학교'] = df['학교'] + '등학교'\n",
    "\n",
    "## 행 수정 여러 개\n",
    "# df.loc['4번',['학교','SW특기']] = ['디지털고','C']\n",
    "df.loc['5번',['키','SW특기']] = [190,'Python']\n",
    "\n",
    "df.loc[['4번','5번'],['SW특기']] = 'C'\n",
    "\n",
    "# df.drop(columns='특기',inplace=True)"
   ]
  },
  {
   "cell_type": "code",
   "execution_count": null,
   "id": "74ae9b31",
   "metadata": {},
   "outputs": [
    {
     "ename": "ValueError",
     "evalue": "cannot set a row with mismatched columns",
     "output_type": "error",
     "traceback": [
      "\u001b[31m---------------------------------------------------------------------------\u001b[39m",
      "\u001b[31mValueError\u001b[39m                                Traceback (most recent call last)",
      "\u001b[36mCell\u001b[39m\u001b[36m \u001b[39m\u001b[32mIn[19]\u001b[39m\u001b[32m, line 4\u001b[39m\n\u001b[32m      1\u001b[39m \u001b[38;5;66;03m## 행 추가\u001b[39;00m\n\u001b[32m      2\u001b[39m \u001b[38;5;66;03m# 1. 없는 행 새로 입력\u001b[39;00m\n\u001b[32m      3\u001b[39m df.loc[\u001b[33m'\u001b[39m\u001b[33m9번\u001b[39m\u001b[33m'\u001b[39m] = [\u001b[33m'\u001b[39m\u001b[33m길동스\u001b[39m\u001b[33m'\u001b[39m,\u001b[33m'\u001b[39m\u001b[33m디지털고\u001b[39m\u001b[33m'\u001b[39m,\u001b[32m184\u001b[39m,\u001b[32m90\u001b[39m,\u001b[32m90\u001b[39m,\u001b[32m90\u001b[39m,\u001b[32m90\u001b[39m,\u001b[32m90\u001b[39m,\u001b[33m'\u001b[39m\u001b[33mDjango\u001b[39m\u001b[33m'\u001b[39m]\n\u001b[32m----> \u001b[39m\u001b[32m4\u001b[39m \u001b[43mdf\u001b[49m\u001b[43m.\u001b[49m\u001b[43mloc\u001b[49m\u001b[43m[\u001b[49m\u001b[33;43m'\u001b[39;49m\u001b[33;43m10번\u001b[39;49m\u001b[33;43m'\u001b[39;49m\u001b[43m]\u001b[49m = [\u001b[33m'\u001b[39m\u001b[33m길동스\u001b[39m\u001b[33m'\u001b[39m,\u001b[33m'\u001b[39m\u001b[33m디지털고\u001b[39m\u001b[33m'\u001b[39m,\u001b[32m184\u001b[39m,\u001b[32m90\u001b[39m]\n",
      "\u001b[36mFile \u001b[39m\u001b[32mc:\\python3\\Lib\\site-packages\\pandas\\core\\indexing.py:911\u001b[39m, in \u001b[36m_LocationIndexer.__setitem__\u001b[39m\u001b[34m(self, key, value)\u001b[39m\n\u001b[32m    908\u001b[39m \u001b[38;5;28mself\u001b[39m._has_valid_setitem_indexer(key)\n\u001b[32m    910\u001b[39m iloc = \u001b[38;5;28mself\u001b[39m \u001b[38;5;28;01mif\u001b[39;00m \u001b[38;5;28mself\u001b[39m.name == \u001b[33m\"\u001b[39m\u001b[33miloc\u001b[39m\u001b[33m\"\u001b[39m \u001b[38;5;28;01melse\u001b[39;00m \u001b[38;5;28mself\u001b[39m.obj.iloc\n\u001b[32m--> \u001b[39m\u001b[32m911\u001b[39m \u001b[43miloc\u001b[49m\u001b[43m.\u001b[49m\u001b[43m_setitem_with_indexer\u001b[49m\u001b[43m(\u001b[49m\u001b[43mindexer\u001b[49m\u001b[43m,\u001b[49m\u001b[43m \u001b[49m\u001b[43mvalue\u001b[49m\u001b[43m,\u001b[49m\u001b[43m \u001b[49m\u001b[38;5;28;43mself\u001b[39;49m\u001b[43m.\u001b[49m\u001b[43mname\u001b[49m\u001b[43m)\u001b[49m\n",
      "\u001b[36mFile \u001b[39m\u001b[32mc:\\python3\\Lib\\site-packages\\pandas\\core\\indexing.py:1932\u001b[39m, in \u001b[36m_iLocIndexer._setitem_with_indexer\u001b[39m\u001b[34m(self, indexer, value, name)\u001b[39m\n\u001b[32m   1929\u001b[39m     indexer, missing = convert_missing_indexer(indexer)\n\u001b[32m   1931\u001b[39m     \u001b[38;5;28;01mif\u001b[39;00m missing:\n\u001b[32m-> \u001b[39m\u001b[32m1932\u001b[39m         \u001b[38;5;28;43mself\u001b[39;49m\u001b[43m.\u001b[49m\u001b[43m_setitem_with_indexer_missing\u001b[49m\u001b[43m(\u001b[49m\u001b[43mindexer\u001b[49m\u001b[43m,\u001b[49m\u001b[43m \u001b[49m\u001b[43mvalue\u001b[49m\u001b[43m)\u001b[49m\n\u001b[32m   1933\u001b[39m         \u001b[38;5;28;01mreturn\u001b[39;00m\n\u001b[32m   1935\u001b[39m \u001b[38;5;28;01mif\u001b[39;00m name == \u001b[33m\"\u001b[39m\u001b[33mloc\u001b[39m\u001b[33m\"\u001b[39m:\n\u001b[32m   1936\u001b[39m     \u001b[38;5;66;03m# must come after setting of missing\u001b[39;00m\n",
      "\u001b[36mFile \u001b[39m\u001b[32mc:\\python3\\Lib\\site-packages\\pandas\\core\\indexing.py:2306\u001b[39m, in \u001b[36m_iLocIndexer._setitem_with_indexer_missing\u001b[39m\u001b[34m(self, indexer, value)\u001b[39m\n\u001b[32m   2303\u001b[39m     \u001b[38;5;28;01mif\u001b[39;00m is_list_like_indexer(value):\n\u001b[32m   2304\u001b[39m         \u001b[38;5;66;03m# must have conforming columns\u001b[39;00m\n\u001b[32m   2305\u001b[39m         \u001b[38;5;28;01mif\u001b[39;00m \u001b[38;5;28mlen\u001b[39m(value) != \u001b[38;5;28mlen\u001b[39m(\u001b[38;5;28mself\u001b[39m.obj.columns):\n\u001b[32m-> \u001b[39m\u001b[32m2306\u001b[39m             \u001b[38;5;28;01mraise\u001b[39;00m \u001b[38;5;167;01mValueError\u001b[39;00m(\u001b[33m\"\u001b[39m\u001b[33mcannot set a row with mismatched columns\u001b[39m\u001b[33m\"\u001b[39m)\n\u001b[32m   2308\u001b[39m     value = Series(value, index=\u001b[38;5;28mself\u001b[39m.obj.columns, name=indexer)\n\u001b[32m   2310\u001b[39m \u001b[38;5;28;01mif\u001b[39;00m \u001b[38;5;129;01mnot\u001b[39;00m \u001b[38;5;28mlen\u001b[39m(\u001b[38;5;28mself\u001b[39m.obj):\n\u001b[32m   2311\u001b[39m     \u001b[38;5;66;03m# We will ignore the existing dtypes instead of using\u001b[39;00m\n\u001b[32m   2312\u001b[39m     \u001b[38;5;66;03m#  internals.concat logic\u001b[39;00m\n",
      "\u001b[31mValueError\u001b[39m: cannot set a row with mismatched columns"
     ]
    }
   ],
   "source": [
    "## 행 추가\n",
    "# 1. 없는 행 새로 입력\n",
    "df.loc['9번'] = ['길동스','디지털고',184,90,90,90,90,90,'Django']\n",
    "df.loc['10번'] = ['길동스','디지털고',184,90]   # 컬럼 수 맞춰서 값을 모두 넣어야 함, 아니면 에러\n"
   ]
  },
  {
   "cell_type": "code",
   "execution_count": 48,
   "id": "f13cd3db",
   "metadata": {},
   "outputs": [],
   "source": [
    "a_list = [1,2,3]\n",
    "b_list = [4,5,6,7]\n",
    "c_list = a_list + b_list\n",
    "c_list\n",
    "\n",
    "a = 10\n",
    "d_list = a_list + [a]\n",
    "d_list\n",
    "\n",
    "## 컬럼 순서 변경\n",
    "# df = df[['이름','결과','학교','키','국어','영어','수학','과학','사회','SW특기','합계']]\n",
    "col = list(df.columns)\n",
    "df = df[[col[0]] + [col[-1]] + col[1:-1]]"
   ]
  },
  {
   "cell_type": "code",
   "execution_count": 44,
   "id": "5d605c7f",
   "metadata": {},
   "outputs": [],
   "source": [
    "## 합계, 결과 추가 - 400점 이상 합격, 미만 불합격\n",
    "\n",
    "df['합계'] = df['과학'] + df['사회'] + df['영어'] + df['수학'] + df['국어']\n",
    "df['결과'] = '불합격'\n",
    "df.loc[df['합계']>=400,'결과'] = '합격'"
   ]
  },
  {
   "cell_type": "code",
   "execution_count": 51,
   "id": "98e761e2",
   "metadata": {},
   "outputs": [
    {
     "data": {
      "text/plain": [
       "[True, False, False, False, False, True, False, True]"
      ]
     },
     "execution_count": 51,
     "metadata": {},
     "output_type": "execute_result"
    }
   ],
   "source": [
    "list(df['합계']>=400)"
   ]
  },
  {
   "cell_type": "code",
   "execution_count": 63,
   "id": "4a87af8c",
   "metadata": {},
   "outputs": [],
   "source": [
    "## 컬럼 이름 변경\n",
    "# 1개만 변경\n",
    "# df.rename(columns={'이름':'성명'})\n",
    "\n",
    "# # 전체 변경\n",
    "# df.columns = ['name','total','result','school','height','kor','eng','math','science','social','SW']\n",
    "\n",
    "\n",
    "## index 이름 변경\n",
    "# df.index.name = 'no'"
   ]
  },
  {
   "cell_type": "code",
   "execution_count": 61,
   "id": "695f6586",
   "metadata": {},
   "outputs": [
    {
     "data": {
      "text/plain": [
       "'school'"
      ]
     },
     "execution_count": 61,
     "metadata": {},
     "output_type": "execute_result"
    }
   ],
   "source": [
    "df\n",
    "df.columns[3]"
   ]
  }
 ],
 "metadata": {
  "kernelspec": {
   "display_name": "Python 3",
   "language": "python",
   "name": "python3"
  },
  "language_info": {
   "codemirror_mode": {
    "name": "ipython",
    "version": 3
   },
   "file_extension": ".py",
   "mimetype": "text/x-python",
   "name": "python",
   "nbconvert_exporter": "python",
   "pygments_lexer": "ipython3",
   "version": "3.13.2"
  }
 },
 "nbformat": 4,
 "nbformat_minor": 5
}
