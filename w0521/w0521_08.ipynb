{
 "cells": [
  {
   "cell_type": "code",
   "execution_count": 1,
   "id": "fea776f7",
   "metadata": {},
   "outputs": [],
   "source": [
    "import pandas as pd\n",
    "import numpy as np"
   ]
  },
  {
   "cell_type": "code",
   "execution_count": 45,
   "id": "3d30db39",
   "metadata": {},
   "outputs": [],
   "source": [
    "data = {\n",
    "   '영화' : ['명량', '극한직업', '신과함께-죄와 벌', '국제시장', '괴물', '도둑들', '7번방의 선물', '암살'],\n",
    "   '개봉 연도' : [2014, 2019, 2017, 2014, 2019, 2012, 2014, 2017],\n",
    "   '관객 수' : [1761, 1626, 1441, 1426, 1301, 1298, 1281, 1270], # (단위 : 만 명)\n",
    "   '평점' : [8.88, 9.20, 8.73, 9.16, 8.62, 7.64, 8.83, 9.10]\n",
    "}\n",
    "\n",
    "df = pd.DataFrame(data)\n",
    "df.set_index('영화',inplace=True)"
   ]
  },
  {
   "cell_type": "code",
   "execution_count": null,
   "id": "f62f1d8e",
   "metadata": {},
   "outputs": [
    {
     "data": {
      "text/html": [
       "<div>\n",
       "<style scoped>\n",
       "    .dataframe tbody tr th:only-of-type {\n",
       "        vertical-align: middle;\n",
       "    }\n",
       "\n",
       "    .dataframe tbody tr th {\n",
       "        vertical-align: top;\n",
       "    }\n",
       "\n",
       "    .dataframe thead th {\n",
       "        text-align: right;\n",
       "    }\n",
       "</style>\n",
       "<table border=\"1\" class=\"dataframe\">\n",
       "  <thead>\n",
       "    <tr style=\"text-align: right;\">\n",
       "      <th></th>\n",
       "      <th>mean</th>\n",
       "      <th>min</th>\n",
       "      <th>max</th>\n",
       "      <th>sum</th>\n",
       "    </tr>\n",
       "    <tr>\n",
       "      <th>개봉 연도</th>\n",
       "      <th></th>\n",
       "      <th></th>\n",
       "      <th></th>\n",
       "      <th></th>\n",
       "    </tr>\n",
       "  </thead>\n",
       "  <tbody>\n",
       "    <tr>\n",
       "      <th>2012년도</th>\n",
       "      <td>1298.000000</td>\n",
       "      <td>1298</td>\n",
       "      <td>1298</td>\n",
       "      <td>1298</td>\n",
       "    </tr>\n",
       "    <tr>\n",
       "      <th>2014년도</th>\n",
       "      <td>1489.333333</td>\n",
       "      <td>1281</td>\n",
       "      <td>1761</td>\n",
       "      <td>4468</td>\n",
       "    </tr>\n",
       "    <tr>\n",
       "      <th>2017년도</th>\n",
       "      <td>1355.500000</td>\n",
       "      <td>1270</td>\n",
       "      <td>1441</td>\n",
       "      <td>2711</td>\n",
       "    </tr>\n",
       "    <tr>\n",
       "      <th>2019년도</th>\n",
       "      <td>1463.500000</td>\n",
       "      <td>1301</td>\n",
       "      <td>1626</td>\n",
       "      <td>2927</td>\n",
       "    </tr>\n",
       "  </tbody>\n",
       "</table>\n",
       "</div>"
      ],
      "text/plain": [
       "               mean   min   max   sum\n",
       "개봉 연도                                \n",
       "2012년도  1298.000000  1298  1298  1298\n",
       "2014년도  1489.333333  1281  1761  4468\n",
       "2017년도  1355.500000  1270  1441  2711\n",
       "2019년도  1463.500000  1301  1626  2927"
      ]
     },
     "execution_count": 22,
     "metadata": {},
     "output_type": "execute_result"
    }
   ],
   "source": [
    "# 개봉 연도 >> 2014'년도' 글자 추가해서 출력\n",
    "\n",
    "# df.info()\n",
    "# df['개봉 연도'] = df['개봉 연도'].astype(str) + '년도'\n",
    "# df['개봉 연도'] = df['개봉 연도'].str.replace('년도년도년도','년도')\n",
    "\n",
    "\n",
    "\n",
    "# 개봉 연도 별 관객 수 평균,최소,최대,합계 관객 수 출력\n",
    "\n",
    "df.groupby('개봉 연도')['관객 수'].agg(['mean','min','max','sum'])"
   ]
  },
  {
   "cell_type": "code",
   "execution_count": null,
   "id": "949d0200",
   "metadata": {},
   "outputs": [],
   "source": [
    "# 관객 수 천 단위 표시 후 출력\n",
    "# 함수 사용해서 천 단위 표시\n",
    "\n",
    "# 1. 함수 정의해서 사용\n",
    "\n",
    "def thousand_newbie(x):\n",
    "    return str(x)[:-3] + ',' + str(x)[-3:]\n",
    "\n",
    "\n",
    "\n",
    "def thousand(x):\n",
    "    return '{:3,}'.format(x)\n",
    "\n",
    "# df['관객 수'] = df['관객 수'].apply(thousand)\n",
    "\n",
    "df['관객 수'] = df['관객 수'].apply(thousand_newbie)"
   ]
  },
  {
   "cell_type": "code",
   "execution_count": 34,
   "id": "8e7c0ba1",
   "metadata": {},
   "outputs": [],
   "source": [
    "# 2. map함수를 사용\n",
    "\n",
    "df['관객 수'] = df['관객 수'].map('{:,d}'.format)"
   ]
  },
  {
   "cell_type": "code",
   "execution_count": 37,
   "id": "c4c10160",
   "metadata": {},
   "outputs": [],
   "source": [
    "# 3. lambda 사용\n",
    "df['관객 수'] = df['관객 수'].apply(lambda x:'{:,d}'.format(x))"
   ]
  },
  {
   "cell_type": "code",
   "execution_count": 28,
   "id": "3fa49f78",
   "metadata": {},
   "outputs": [
    {
     "data": {
      "text/plain": [
       "'1,000'"
      ]
     },
     "execution_count": 28,
     "metadata": {},
     "output_type": "execute_result"
    }
   ],
   "source": [
    "a = 1000\n",
    "\n",
    "# f'{a:3,}'\n",
    "\n",
    "'{:3,}'.format(a)"
   ]
  },
  {
   "cell_type": "code",
   "execution_count": 47,
   "id": "b6b0f67b",
   "metadata": {},
   "outputs": [
    {
     "data": {
      "text/html": [
       "<div>\n",
       "<style scoped>\n",
       "    .dataframe tbody tr th:only-of-type {\n",
       "        vertical-align: middle;\n",
       "    }\n",
       "\n",
       "    .dataframe tbody tr th {\n",
       "        vertical-align: top;\n",
       "    }\n",
       "\n",
       "    .dataframe thead th {\n",
       "        text-align: right;\n",
       "    }\n",
       "</style>\n",
       "<table border=\"1\" class=\"dataframe\">\n",
       "  <thead>\n",
       "    <tr style=\"text-align: right;\">\n",
       "      <th></th>\n",
       "      <th>개봉 연도</th>\n",
       "      <th>관객 수</th>\n",
       "      <th>평점</th>\n",
       "    </tr>\n",
       "    <tr>\n",
       "      <th>영화</th>\n",
       "      <th></th>\n",
       "      <th></th>\n",
       "      <th></th>\n",
       "    </tr>\n",
       "  </thead>\n",
       "  <tbody>\n",
       "    <tr>\n",
       "      <th>명량</th>\n",
       "      <td>2014</td>\n",
       "      <td>1,761</td>\n",
       "      <td>8.88</td>\n",
       "    </tr>\n",
       "    <tr>\n",
       "      <th>극한직업</th>\n",
       "      <td>2019</td>\n",
       "      <td>1,626</td>\n",
       "      <td>9.20</td>\n",
       "    </tr>\n",
       "    <tr>\n",
       "      <th>신과함께-죄와 벌</th>\n",
       "      <td>2017</td>\n",
       "      <td>1,441</td>\n",
       "      <td>8.73</td>\n",
       "    </tr>\n",
       "    <tr>\n",
       "      <th>국제시장</th>\n",
       "      <td>2014</td>\n",
       "      <td>1,426</td>\n",
       "      <td>9.16</td>\n",
       "    </tr>\n",
       "    <tr>\n",
       "      <th>괴물</th>\n",
       "      <td>2019</td>\n",
       "      <td>1,301</td>\n",
       "      <td>8.62</td>\n",
       "    </tr>\n",
       "    <tr>\n",
       "      <th>도둑들</th>\n",
       "      <td>2012</td>\n",
       "      <td>1,298</td>\n",
       "      <td>7.64</td>\n",
       "    </tr>\n",
       "    <tr>\n",
       "      <th>7번방의 선물</th>\n",
       "      <td>2014</td>\n",
       "      <td>1,281</td>\n",
       "      <td>8.83</td>\n",
       "    </tr>\n",
       "    <tr>\n",
       "      <th>암살</th>\n",
       "      <td>2017</td>\n",
       "      <td>1,270</td>\n",
       "      <td>9.10</td>\n",
       "    </tr>\n",
       "  </tbody>\n",
       "</table>\n",
       "</div>"
      ],
      "text/plain": [
       "           개봉 연도   관객 수    평점\n",
       "영화                           \n",
       "명량          2014  1,761  8.88\n",
       "극한직업        2019  1,626  9.20\n",
       "신과함께-죄와 벌   2017  1,441  8.73\n",
       "국제시장        2014  1,426  9.16\n",
       "괴물          2019  1,301  8.62\n",
       "도둑들         2012  1,298  7.64\n",
       "7번방의 선물     2014  1,281  8.83\n",
       "암살          2017  1,270  9.10"
      ]
     },
     "execution_count": 47,
     "metadata": {},
     "output_type": "execute_result"
    }
   ],
   "source": [
    "df"
   ]
  }
 ],
 "metadata": {
  "kernelspec": {
   "display_name": "Python 3",
   "language": "python",
   "name": "python3"
  },
  "language_info": {
   "codemirror_mode": {
    "name": "ipython",
    "version": 3
   },
   "file_extension": ".py",
   "mimetype": "text/x-python",
   "name": "python",
   "nbconvert_exporter": "python",
   "pygments_lexer": "ipython3",
   "version": "3.13.2"
  }
 },
 "nbformat": 4,
 "nbformat_minor": 5
}
