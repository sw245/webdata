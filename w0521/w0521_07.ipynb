{
 "cells": [
  {
   "cell_type": "code",
   "execution_count": 1,
   "id": "35ac9ddb",
   "metadata": {},
   "outputs": [],
   "source": [
    "import pandas as pd\n",
    "import numpy as np"
   ]
  },
  {
   "cell_type": "code",
   "execution_count": 6,
   "id": "22a733f7",
   "metadata": {},
   "outputs": [],
   "source": [
    "## 2개 DataFrame 합치기, concat\n",
    "\n",
    "df1 = pd.read_csv('data/2014년졸음운전교통사고.csv',encoding='euc-kr')\n",
    "df2 = pd.read_csv('data/2015년졸음운전교통사고.csv',encoding='euc-kr')\n",
    "df3 = pd.read_csv('data/2016년졸음운전교통사고.csv',encoding='euc-kr')\n",
    "df_con = pd.concat([df1,df2,df3])"
   ]
  },
  {
   "cell_type": "code",
   "execution_count": null,
   "id": "51e82892",
   "metadata": {},
   "outputs": [],
   "source": [
    "url = 'https://race.kra.co.kr/dbdata/fileDownLoad.do?fn=internet/seoul/horse/20220501sdb1.txt&meet=1'\n",
    "df = pd.read_csv(url,encoding='euc-kr',skiprows=1)\n",
    "# ??"
   ]
  },
  {
   "cell_type": "code",
   "execution_count": 10,
   "id": "96b4c68a",
   "metadata": {},
   "outputs": [
    {
     "data": {
      "text/html": [
       "<div>\n",
       "<style scoped>\n",
       "    .dataframe tbody tr th:only-of-type {\n",
       "        vertical-align: middle;\n",
       "    }\n",
       "\n",
       "    .dataframe tbody tr th {\n",
       "        vertical-align: top;\n",
       "    }\n",
       "\n",
       "    .dataframe thead th {\n",
       "        text-align: right;\n",
       "    }\n",
       "</style>\n",
       "<table border=\"1\" class=\"dataframe\">\n",
       "  <thead>\n",
       "    <tr style=\"text-align: right;\">\n",
       "      <th></th>\n",
       "      <th>마명              산지   성별 생년월일   나이 등급 조 조교사   마주                 부마명               모마명                 총출전 1위  2위   3위  1년출전 1위   2위   3위  수득상금   레이팅  최근거래가</th>\n",
       "    </tr>\n",
       "  </thead>\n",
       "  <tbody>\n",
       "    <tr>\n",
       "      <th>0</th>\n",
       "      <td>----------------------------------------------...</td>\n",
       "    </tr>\n",
       "    <tr>\n",
       "      <th>1</th>\n",
       "      <td>가기만고당        한      거  2019/05/04  3   국6  48 ...</td>\n",
       "    </tr>\n",
       "    <tr>\n",
       "      <th>2</th>\n",
       "      <td>가나패션          한      암  2019/04/19  3   국6  26...</td>\n",
       "    </tr>\n",
       "    <tr>\n",
       "      <th>3</th>\n",
       "      <td>가로수길          한      수  2016/04/06  6   국2  34...</td>\n",
       "    </tr>\n",
       "    <tr>\n",
       "      <th>4</th>\n",
       "      <td>갈색향기          한      암  2019/02/28  3   국6  22...</td>\n",
       "    </tr>\n",
       "    <tr>\n",
       "      <th>...</th>\n",
       "      <td>...</td>\n",
       "    </tr>\n",
       "    <tr>\n",
       "      <th>1533</th>\n",
       "      <td>히든블레이드      한      암  2019/05/23  3   국6  31 강...</td>\n",
       "    </tr>\n",
       "    <tr>\n",
       "      <th>1534</th>\n",
       "      <td>히든삭스          미      수  2017/04/06  5   외2  09...</td>\n",
       "    </tr>\n",
       "    <tr>\n",
       "      <th>1535</th>\n",
       "      <td>히어로파크        한      수  2020/04/03  2   국미 26 안...</td>\n",
       "    </tr>\n",
       "    <tr>\n",
       "      <th>1536</th>\n",
       "      <td>히트에이스        한      암  2018/03/20  4   국5  99 ...</td>\n",
       "    </tr>\n",
       "    <tr>\n",
       "      <th>1537</th>\n",
       "      <td>히트파워          한      수  2020/02/11  2   국미 05 ...</td>\n",
       "    </tr>\n",
       "  </tbody>\n",
       "</table>\n",
       "<p>1538 rows × 1 columns</p>\n",
       "</div>"
      ],
      "text/plain": [
       "     마명              산지   성별 생년월일   나이 등급 조 조교사   마주                 부마명               모마명                 총출전 1위  2위   3위  1년출전 1위   2위   3위  수득상금   레이팅  최근거래가 \n",
       "0     ----------------------------------------------...                                                                                                          \n",
       "1     가기만고당        한      거  2019/05/04  3   국6  48 ...                                                                                                          \n",
       "2     가나패션          한      암  2019/04/19  3   국6  26...                                                                                                          \n",
       "3     가로수길          한      수  2016/04/06  6   국2  34...                                                                                                          \n",
       "4     갈색향기          한      암  2019/02/28  3   국6  22...                                                                                                          \n",
       "...                                                 ...                                                                                                          \n",
       "1533  히든블레이드      한      암  2019/05/23  3   국6  31 강...                                                                                                          \n",
       "1534  히든삭스          미      수  2017/04/06  5   외2  09...                                                                                                          \n",
       "1535  히어로파크        한      수  2020/04/03  2   국미 26 안...                                                                                                          \n",
       "1536  히트에이스        한      암  2018/03/20  4   국5  99 ...                                                                                                          \n",
       "1537  히트파워          한      수  2020/02/11  2   국미 05 ...                                                                                                          \n",
       "\n",
       "[1538 rows x 1 columns]"
      ]
     },
     "execution_count": 10,
     "metadata": {},
     "output_type": "execute_result"
    }
   ],
   "source": [
    "df"
   ]
  }
 ],
 "metadata": {
  "kernelspec": {
   "display_name": "Python 3",
   "language": "python",
   "name": "python3"
  },
  "language_info": {
   "codemirror_mode": {
    "name": "ipython",
    "version": 3
   },
   "file_extension": ".py",
   "mimetype": "text/x-python",
   "name": "python",
   "nbconvert_exporter": "python",
   "pygments_lexer": "ipython3",
   "version": "3.13.2"
  }
 },
 "nbformat": 4,
 "nbformat_minor": 5
}
